{
  "nbformat": 4,
  "nbformat_minor": 0,
  "metadata": {
    "colab": {
      "provenance": [],
      "toc_visible": true,
      "authorship_tag": "ABX9TyNvu0IJLXZ69D+X8KQOfNyE",
      "include_colab_link": true
    },
    "kernelspec": {
      "name": "python3",
      "display_name": "Python 3"
    },
    "language_info": {
      "name": "python"
    }
  },
  "cells": [
    {
      "cell_type": "markdown",
      "metadata": {
        "id": "view-in-github",
        "colab_type": "text"
      },
      "source": [
        "<a href=\"https://colab.research.google.com/github/vakilarora/python/blob/main/DataStructures.ipynb\" target=\"_parent\"><img src=\"https://colab.research.google.com/assets/colab-badge.svg\" alt=\"Open In Colab\"/></a>"
      ]
    },
    {
      "cell_type": "code",
      "source": [
        "#loop\n",
        "for num in range(10,30,2):\n",
        "  print(num, end = '\\t')"
      ],
      "metadata": {
        "colab": {
          "base_uri": "https://localhost:8080/"
        },
        "id": "0BlLHl2PWpOD",
        "outputId": "06b4458d-b0f7-4e62-ed66-8a63354fbe19"
      },
      "execution_count": 11,
      "outputs": [
        {
          "output_type": "stream",
          "name": "stdout",
          "text": [
            "10\t12\t14\t16\t18\t20\t22\t24\t26\t28\t"
          ]
        }
      ]
    },
    {
      "cell_type": "code",
      "source": [
        "#list\n",
        "my_list = ['Delhi','Mumbai','Bangalore','Chennai','Hyderabad']\n",
        "for city in my_list:\n",
        "  print(f'{city}',end=' ')"
      ],
      "metadata": {
        "colab": {
          "base_uri": "https://localhost:8080/"
        },
        "id": "2IsxKLV7XA__",
        "outputId": "600bcccb-220f-4e43-f2fc-0f098ed595c0"
      },
      "execution_count": 7,
      "outputs": [
        {
          "output_type": "stream",
          "name": "stdout",
          "text": [
            "Delhi Mumbai Bangalore Chennai Hyderabad "
          ]
        }
      ]
    },
    {
      "cell_type": "code",
      "source": [
        "#tuple - tuples are non editable\n",
        "my_tuple = ('c','c++','java','python','js','ruby')\n",
        "for pl in my_tuple:\n",
        "  print(pl,end='|')\n",
        "print('')\n",
        "\n",
        "for index in range(6):\n",
        "  print(my_tuple[index],end='  ')\n",
        "\n",
        "print('')\n",
        "my_slice=my_tuple[2:]\n",
        "print('slice: ',my_slice)\n",
        "\n",
        "print('Tuple: ',my_tuple)\n",
        "print('Reverse: ',my_tuple[::-1])"
      ],
      "metadata": {
        "colab": {
          "base_uri": "https://localhost:8080/"
        },
        "id": "lSoHh4J7Xd9N",
        "outputId": "a72f1829-effb-455a-eeb6-9f5ade17b481"
      },
      "execution_count": 22,
      "outputs": [
        {
          "output_type": "stream",
          "name": "stdout",
          "text": [
            "c|c++|java|python|js|ruby|\n",
            "c  c++  java  python  js  ruby  \n",
            "slice:  ('java', 'python', 'js', 'ruby')\n",
            "Tuple:  ('c', 'c++', 'java', 'python', 'js', 'ruby')\n",
            "Reverse:  ('ruby', 'js', 'python', 'java', 'c++', 'c')\n"
          ]
        }
      ]
    },
    {
      "cell_type": "code",
      "source": [
        "#set - can store unique entries, ordering is not guaranteed\n",
        "my_set = {'numpy','pandas','metplotlib','scikit-learn','keras','tensorflow','pandas','Pandas'}\n",
        "\n",
        "print(my_set)"
      ],
      "metadata": {
        "colab": {
          "base_uri": "https://localhost:8080/"
        },
        "id": "WmLXb22uYJKH",
        "outputId": "ee221813-261f-4c3a-d225-7a9e19ec88ae"
      },
      "execution_count": 15,
      "outputs": [
        {
          "output_type": "stream",
          "name": "stdout",
          "text": [
            "{'scikit-learn', 'numpy', 'tensorflow', 'metplotlib', 'Pandas', 'pandas', 'keras'}\n"
          ]
        }
      ]
    },
    {
      "cell_type": "code",
      "source": [
        "#dictionary - stores key-value pairs. Items can be addressed by key\n",
        "\n",
        "my_dict={1:'One',2:'Two',3:'Three',4:'Four',5:'Five'}\n",
        "number = '12543'\n",
        "for num in number:\n",
        "  print(my_dict[int(num)],end=' ')\n"
      ],
      "metadata": {
        "colab": {
          "base_uri": "https://localhost:8080/"
        },
        "id": "2SrTLVJ1Zq0r",
        "outputId": "d943eccb-9ad9-4c12-8c0e-b1096ed3cd25"
      },
      "execution_count": 17,
      "outputs": [
        {
          "output_type": "stream",
          "name": "stdout",
          "text": [
            "One Two Five Four Three "
          ]
        }
      ]
    }
  ]
}