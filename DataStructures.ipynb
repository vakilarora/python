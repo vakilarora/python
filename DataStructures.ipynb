{
  "nbformat": 4,
  "nbformat_minor": 0,
  "metadata": {
    "colab": {
      "provenance": [],
      "toc_visible": true,
      "authorship_tag": "ABX9TyN5pbkL5jlJx69TUQEzkSy/",
      "include_colab_link": true
    },
    "kernelspec": {
      "name": "python3",
      "display_name": "Python 3"
    },
    "language_info": {
      "name": "python"
    }
  },
  "cells": [
    {
      "cell_type": "markdown",
      "metadata": {
        "id": "view-in-github",
        "colab_type": "text"
      },
      "source": [
        "<a href=\"https://colab.research.google.com/github/vakilarora/python/blob/main/DataStructures.ipynb\" target=\"_parent\"><img src=\"https://colab.research.google.com/assets/colab-badge.svg\" alt=\"Open In Colab\"/></a>"
      ]
    },
    {
      "cell_type": "code",
      "source": [
        "#loop\n",
        "for num in range(10,30,2):\n",
        "  print(num, end = '\\t')"
      ],
      "metadata": {
        "colab": {
          "base_uri": "https://localhost:8080/"
        },
        "id": "0BlLHl2PWpOD",
        "outputId": "481f52f7-49a6-437a-8a77-f8d6533921d7"
      },
      "execution_count": 10,
      "outputs": [
        {
          "output_type": "stream",
          "name": "stdout",
          "text": [
            "10\t12\t14\t16\t18\t20\t22\t24\t26\t28\t"
          ]
        }
      ]
    },
    {
      "cell_type": "code",
      "source": [
        "#lists\n",
        "my_list = ['Delhi','Mumbai','Bangalore','Chennai','Hyderabad']\n",
        "for city in my_list:\n",
        "  print(f'{city}',end=' ')"
      ],
      "metadata": {
        "colab": {
          "base_uri": "https://localhost:8080/"
        },
        "id": "2IsxKLV7XA__",
        "outputId": "8488953f-b853-4d65-f5e7-11ae028ec78b"
      },
      "execution_count": 11,
      "outputs": [
        {
          "output_type": "stream",
          "name": "stdout",
          "text": [
            "Delhi Mumbai Bangalore Chennai Hyderabad "
          ]
        }
      ]
    },
    {
      "cell_type": "code",
      "source": [
        "#List of Lists\n",
        "twoD_list = [[1,2,3],[4,5,6],[7,8,9]]\n",
        "\n",
        "print(twoD_list)\n",
        "\n",
        "print('twoD_list[1][2] = ',twoD_list[1][2])"
      ],
      "metadata": {
        "colab": {
          "base_uri": "https://localhost:8080/"
        },
        "id": "yxpKQaC-qr2N",
        "outputId": "71fc5861-a9c6-48d7-b482-b6f32f5a9f81"
      },
      "execution_count": 13,
      "outputs": [
        {
          "output_type": "stream",
          "name": "stdout",
          "text": [
            "[[1, 2, 3], [4, 5, 6], [7, 8, 9]]\n",
            "twoD_list[1][2] =  6\n"
          ]
        }
      ]
    },
    {
      "cell_type": "code",
      "source": [
        "#set - can store unique entries, ordering is not guaranteed\n",
        "my_set = {'numpy','pandas','metplotlib','scikit-learn','keras','tensorflow','pandas','Pandas'}\n",
        "\n",
        "print(my_set)"
      ],
      "metadata": {
        "colab": {
          "base_uri": "https://localhost:8080/"
        },
        "id": "WmLXb22uYJKH",
        "outputId": "d95e342d-7775-432a-8614-84fa778e65d0"
      },
      "execution_count": 14,
      "outputs": [
        {
          "output_type": "stream",
          "name": "stdout",
          "text": [
            "{'scikit-learn', 'numpy', 'keras', 'tensorflow', 'pandas', 'Pandas', 'metplotlib'}\n"
          ]
        }
      ]
    },
    {
      "cell_type": "code",
      "source": [
        "#dictionary - stores key-value pairs. Items can be addressed by key\n",
        "\n",
        "my_dict={1:'One',2:'Two',3:'Three',4:'Four',5:'Five'}\n",
        "number = '12543'\n",
        "for num in number:\n",
        "  print(my_dict[int(num)],end=' ')\n"
      ],
      "metadata": {
        "colab": {
          "base_uri": "https://localhost:8080/"
        },
        "id": "2SrTLVJ1Zq0r",
        "outputId": "d7c1849f-8a2b-43c0-b823-4226c9f3acbb"
      },
      "execution_count": 15,
      "outputs": [
        {
          "output_type": "stream",
          "name": "stdout",
          "text": [
            "One Two Five Four Three "
          ]
        }
      ]
    },
    {
      "cell_type": "code",
      "source": [
        "#tuple - tuples are non editable\n",
        "my_tuple = ('c','c++','java','python','js','ruby')\n",
        "for pl in my_tuple:\n",
        "  print(pl,end='|')"
      ],
      "metadata": {
        "colab": {
          "base_uri": "https://localhost:8080/"
        },
        "id": "SIuQQngnbg9P",
        "outputId": "94c63584-7886-4a9a-f034-73eb0dd7e606"
      },
      "execution_count": 16,
      "outputs": [
        {
          "output_type": "stream",
          "name": "stdout",
          "text": [
            "c|c++|java|python|js|ruby|"
          ]
        }
      ]
    },
    {
      "cell_type": "code",
      "source": [
        "#Indexing\n",
        "for index in range(6):\n",
        "  print(my_tuple[index],end='  ')"
      ],
      "metadata": {
        "colab": {
          "base_uri": "https://localhost:8080/"
        },
        "id": "vs7FG9zIp1CI",
        "outputId": "02d68d01-e853-463d-c051-1fd491e7239b"
      },
      "execution_count": 17,
      "outputs": [
        {
          "output_type": "stream",
          "name": "stdout",
          "text": [
            "c  c++  java  python  js  ruby  "
          ]
        }
      ]
    },
    {
      "cell_type": "code",
      "source": [
        "#Slicing\n",
        "\n",
        "print('')\n",
        "my_slice=my_tuple[2:]\n",
        "print('slice: ',my_slice)\n"
      ],
      "metadata": {
        "colab": {
          "base_uri": "https://localhost:8080/"
        },
        "id": "jLzexfBqqOiS",
        "outputId": "3cd664f2-aae0-45a9-9a40-ff5fb83cf31c"
      },
      "execution_count": 18,
      "outputs": [
        {
          "output_type": "stream",
          "name": "stdout",
          "text": [
            "\n",
            "slice:  ('java', 'python', 'js', 'ruby')\n"
          ]
        }
      ]
    },
    {
      "cell_type": "code",
      "source": [
        "#Reversing\n",
        "print('Tuple: ',my_tuple)\n",
        "print('Reverse: ',my_tuple[::-1])"
      ],
      "metadata": {
        "colab": {
          "base_uri": "https://localhost:8080/"
        },
        "id": "pbOxijPLqaeN",
        "outputId": "c2cf1ceb-0e55-424e-d328-f70ff4aba96e"
      },
      "execution_count": 19,
      "outputs": [
        {
          "output_type": "stream",
          "name": "stdout",
          "text": [
            "Tuple:  ('c', 'c++', 'java', 'python', 'js', 'ruby')\n",
            "Reverse:  ('ruby', 'js', 'python', 'java', 'c++', 'c')\n"
          ]
        }
      ]
    },
    {
      "cell_type": "code",
      "source": [
        "#Selecting alternate elements\n",
        "new_list = list(range(1,20))\n",
        "print(new_list)\n",
        "new_slice = new_list[::2]\n",
        "print(new_slice)"
      ],
      "metadata": {
        "colab": {
          "base_uri": "https://localhost:8080/"
        },
        "id": "rK5bcLa7rNSR",
        "outputId": "a1a66c6a-9d97-472b-fcd1-610bf0542ee1"
      },
      "execution_count": 23,
      "outputs": [
        {
          "output_type": "stream",
          "name": "stdout",
          "text": [
            "[1, 2, 3, 4, 5, 6, 7, 8, 9, 10, 11, 12, 13, 14, 15, 16, 17, 18, 19]\n",
            "[1, 3, 5, 7, 9, 11, 13, 15, 17, 19]\n"
          ]
        }
      ]
    }
  ]
}