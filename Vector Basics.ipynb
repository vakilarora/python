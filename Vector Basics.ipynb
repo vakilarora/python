{
  "nbformat": 4,
  "nbformat_minor": 0,
  "metadata": {
    "colab": {
      "provenance": [],
      "authorship_tag": "ABX9TyNKvpWwU8m2xyCC89c1ZiAX",
      "include_colab_link": true
    },
    "kernelspec": {
      "name": "python3",
      "display_name": "Python 3"
    },
    "language_info": {
      "name": "python"
    }
  },
  "cells": [
    {
      "cell_type": "markdown",
      "metadata": {
        "id": "view-in-github",
        "colab_type": "text"
      },
      "source": [
        "<a href=\"https://colab.research.google.com/github/vakilarora/python/blob/main/Vector%20Basics.ipynb\" target=\"_parent\"><img src=\"https://colab.research.google.com/assets/colab-badge.svg\" alt=\"Open In Colab\"/></a>"
      ]
    },
    {
      "cell_type": "code",
      "execution_count": 10,
      "metadata": {
        "id": "CbJ-QD9Z53JL"
      },
      "outputs": [],
      "source": [
        "import numpy as np\n",
        "import math"
      ]
    },
    {
      "cell_type": "code",
      "source": [
        "v = np.array([1,2,3])\n",
        "w = np.array([3,6,4])"
      ],
      "metadata": {
        "id": "5aIWCSnf57If"
      },
      "execution_count": 4,
      "outputs": []
    },
    {
      "cell_type": "code",
      "source": [
        "vector_sum = v + w\n",
        "print(vector_sum)"
      ],
      "metadata": {
        "colab": {
          "base_uri": "https://localhost:8080/"
        },
        "id": "gZ3kZYxG6L8g",
        "outputId": "85f14851-07c8-4e4b-8345-03799ac9ede4"
      },
      "execution_count": 5,
      "outputs": [
        {
          "output_type": "stream",
          "name": "stdout",
          "text": [
            "[4 8 7]\n"
          ]
        }
      ]
    },
    {
      "cell_type": "code",
      "source": [
        "vector_diff = v - w\n",
        "print(vector_diff)"
      ],
      "metadata": {
        "colab": {
          "base_uri": "https://localhost:8080/"
        },
        "id": "zEmJ_12H6eBr",
        "outputId": "0546b64a-ae01-4be6-a859-ae4ffb144178"
      },
      "execution_count": 6,
      "outputs": [
        {
          "output_type": "stream",
          "name": "stdout",
          "text": [
            "[-2 -4 -1]\n"
          ]
        }
      ]
    },
    {
      "cell_type": "code",
      "source": [
        "scalar = 5\n",
        "scalar_mul = scalar * v\n",
        "print(scalar_mul)"
      ],
      "metadata": {
        "colab": {
          "base_uri": "https://localhost:8080/"
        },
        "id": "cpXn4pJa6s6s",
        "outputId": "6742c4ec-0a5a-465c-989a-0a3bea049359"
      },
      "execution_count": 7,
      "outputs": [
        {
          "output_type": "stream",
          "name": "stdout",
          "text": [
            "[ 5 10 15]\n"
          ]
        }
      ]
    },
    {
      "cell_type": "code",
      "source": [
        "#Find length of a vector v\n",
        "vector_length = np.linalg.norm(v)\n",
        "print(vector_length)\n",
        "print(math.sqrt(np.dot(v,v)))"
      ],
      "metadata": {
        "colab": {
          "base_uri": "https://localhost:8080/"
        },
        "id": "ibpbn8Om7LL1",
        "outputId": "6920628f-c862-4fd8-b031-878448f34aee"
      },
      "execution_count": 18,
      "outputs": [
        {
          "output_type": "stream",
          "name": "stdout",
          "text": [
            "3.7416573867739413\n",
            "3.7416573867739413\n"
          ]
        }
      ]
    },
    {
      "cell_type": "code",
      "source": [
        "#Dot product of two vectors\n",
        "dot_product = np.dot(v,w)\n",
        "print(dot_product)"
      ],
      "metadata": {
        "colab": {
          "base_uri": "https://localhost:8080/"
        },
        "id": "us3BeGRF8ZKs",
        "outputId": "bf62d3b6-c987-41cc-a6b1-d34b5d6d9106"
      },
      "execution_count": 17,
      "outputs": [
        {
          "output_type": "stream",
          "name": "stdout",
          "text": [
            "27\n"
          ]
        }
      ]
    }
  ]
}