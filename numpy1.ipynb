{
  "nbformat": 4,
  "nbformat_minor": 0,
  "metadata": {
    "colab": {
      "provenance": [],
      "authorship_tag": "ABX9TyNdi10idLquB7JyCtjQfiWH",
      "include_colab_link": true
    },
    "kernelspec": {
      "name": "python3",
      "display_name": "Python 3"
    },
    "language_info": {
      "name": "python"
    }
  },
  "cells": [
    {
      "cell_type": "markdown",
      "metadata": {
        "id": "view-in-github",
        "colab_type": "text"
      },
      "source": [
        "<a href=\"https://colab.research.google.com/github/vakilarora/python/blob/main/numpy1.ipynb\" target=\"_parent\"><img src=\"https://colab.research.google.com/assets/colab-badge.svg\" alt=\"Open In Colab\"/></a>"
      ]
    },
    {
      "cell_type": "code",
      "source": [
        "import numpy as np\n",
        "\n",
        "print('np version',np.__version__)"
      ],
      "metadata": {
        "colab": {
          "base_uri": "https://localhost:8080/"
        },
        "id": "rvQf2pbXBisn",
        "outputId": "b77c0a2d-40de-4f19-c827-01d459b17617"
      },
      "execution_count": null,
      "outputs": [
        {
          "output_type": "stream",
          "name": "stdout",
          "text": [
            "np version 1.25.2\n"
          ]
        }
      ]
    },
    {
      "cell_type": "code",
      "source": [
        "#Creating a 0-D numpy array\n",
        "arr0 = np.array(100)\n",
        "\n",
        "print('0-d np array',arr0)\n",
        "print('type of 0-d np array',type(arr0))\n",
        "print('dimentions of the 0-d np array',arr0.ndim)\n",
        "print('the only element of 0-d np array',arr0)"
      ],
      "metadata": {
        "colab": {
          "base_uri": "https://localhost:8080/"
        },
        "id": "aX3ZbTWNDDI4",
        "outputId": "58440819-99aa-4924-fd15-a8e83fa0d39c"
      },
      "execution_count": null,
      "outputs": [
        {
          "output_type": "stream",
          "name": "stdout",
          "text": [
            "0-d np array 100\n",
            "type of 0-d np array <class 'numpy.ndarray'>\n",
            "dimentions of the 0-d np array 0\n",
            "the only element of 0-d np array 100\n"
          ]
        }
      ]
    },
    {
      "cell_type": "code",
      "execution_count": null,
      "metadata": {
        "colab": {
          "base_uri": "https://localhost:8080/"
        },
        "id": "Rxc14c2LAQs3",
        "outputId": "72bcfb0f-24ed-4490-8a3f-a944b7e1a9d2"
      },
      "outputs": [
        {
          "output_type": "stream",
          "name": "stdout",
          "text": [
            "1-d np array [1 2 3 4 5]\n",
            "type of 1-d np array <class 'numpy.ndarray'>\n",
            "dimentions of the 1-d np array 1\n",
            "the first element of 1-d np array 1\n"
          ]
        }
      ],
      "source": [
        "#Creating a 1-D numpy array\n",
        "arr1 = np.array([1,2,3,4,5])\n",
        "\n",
        "print('1-d np array',arr1)\n",
        "print('type of 1-d np array',type(arr1))\n",
        "print('dimentions of the 1-d np array',arr1.ndim)\n",
        "print('the first element of 1-d np array',arr1[0])"
      ]
    },
    {
      "cell_type": "code",
      "source": [
        "#Creating a 2-D numpy array\n",
        "arr2 = np.array([[1,2,3],[4,5,6],[7,8,9]])\n",
        "\n",
        "print('2-d np array',arr2)\n",
        "print('type of 2-d np array',type(arr2))\n",
        "print('dimentions of the 2-d np array',arr2.ndim)\n",
        "print('the first element of 2-d np array',arr2[0,0])"
      ],
      "metadata": {
        "colab": {
          "base_uri": "https://localhost:8080/"
        },
        "id": "cA7r7kf1EOua",
        "outputId": "bd04d703-0ad5-4633-8d6f-033cc4860e75"
      },
      "execution_count": null,
      "outputs": [
        {
          "output_type": "stream",
          "name": "stdout",
          "text": [
            "2-d np array [[1 2 3]\n",
            " [4 5 6]\n",
            " [7 8 9]]\n",
            "type of 2-d np array <class 'numpy.ndarray'>\n",
            "dimentions of the 2-d np array 2\n",
            "the first element of 2-d np array 1\n"
          ]
        }
      ]
    },
    {
      "cell_type": "code",
      "source": [
        "#Creating higher dimentional array\n",
        "arr5 = np.array([[10, 20, 30, 40],[30,40,50,60]], ndmin=5)\n",
        "\n",
        "print('5-d np array',arr5)\n",
        "print('type of 5-d np array',type(arr5))\n",
        "print('dimentions of the 5-d np array',arr5.ndim)\n",
        "print('the first element of 5-d np array',arr5[0,0,0,0,0])"
      ],
      "metadata": {
        "colab": {
          "base_uri": "https://localhost:8080/"
        },
        "id": "c-7HjTZoCMyp",
        "outputId": "3eaba0b1-2ee3-442f-bfd6-577fc0bf8ce2"
      },
      "execution_count": null,
      "outputs": [
        {
          "output_type": "stream",
          "name": "stdout",
          "text": [
            "5-d np array [[[[[10 20 30 40]\n",
            "    [30 40 50 60]]]]]\n",
            "type of 5-d np array <class 'numpy.ndarray'>\n",
            "dimentions of the 5-d np array 5\n",
            "the first element of 5-d np array 10\n"
          ]
        }
      ]
    },
    {
      "cell_type": "code",
      "source": [
        "#Creating np array from tuples, sets, and the dictionaries\n",
        "#Note: sets and dictionaries create 0-D array\n",
        "arr11 = np.array((1,2,3))\n",
        "arr12 = np.array({5,6,7,8})\n",
        "arr13 = np.array({5:0,6:0,7:9,8:7})\n",
        "print(arr11)\n",
        "print(arr12)\n",
        "print(arr13)"
      ],
      "metadata": {
        "colab": {
          "base_uri": "https://localhost:8080/"
        },
        "id": "9L_DEyVMJvYk",
        "outputId": "b5a847c4-949e-4120-9aed-b13e8046ddf1"
      },
      "execution_count": null,
      "outputs": [
        {
          "output_type": "stream",
          "name": "stdout",
          "text": [
            "[1 2 3]\n",
            "{8, 5, 6, 7}\n",
            "{5: 0, 6: 0, 7: 9, 8: 7}\n"
          ]
        }
      ]
    },
    {
      "cell_type": "code",
      "source": [
        "#Slicing\n",
        "\n",
        "arr21 = np.array([1, 2, 3, 4, 5, 6, 7])\n",
        "\n",
        "arr22 = arr21[2:4]\n",
        "arr23 = arr21[::2]\n",
        "arr24 = arr21[-3,-1]\n",
        "print('original array', arr21)\n",
        "print('slice[2:4]',arr22)\n",
        "print('slice[::2]',arr23)\n",
        "print('slice[[-3,-1]]',arr24)\n",
        "\n"
      ],
      "metadata": {
        "id": "OXq4z0bjUgg4"
      },
      "execution_count": null,
      "outputs": []
    }
  ]
}